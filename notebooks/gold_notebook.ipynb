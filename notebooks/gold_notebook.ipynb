{
 "cells": [
  {
   "cell_type": "code",
   "execution_count": 1,
   "id": "be7cc0fd",
   "metadata": {},
   "outputs": [],
   "source": [
    "from pyspark.sql import SparkSession\n",
    "from pyspark.sql.functions import col"
   ]
  },
  {
   "cell_type": "code",
   "execution_count": 2,
   "id": "7e4ac4a9",
   "metadata": {},
   "outputs": [
    {
     "name": "stderr",
     "output_type": "stream",
     "text": [
      "WARNING: Using incubator modules: jdk.incubator.vector\n",
      "Using Spark's default log4j profile: org/apache/spark/log4j2-defaults.properties\n",
      "25/06/07 18:58:58 WARN Utils: Your hostname, DESKTOP-DETHDJJ, resolves to a loopback address: 127.0.1.1; using 192.168.15.99 instead (on interface wifi0)\n",
      "25/06/07 18:58:58 WARN Utils: Set SPARK_LOCAL_IP if you need to bind to another address\n",
      "Using Spark's default log4j profile: org/apache/spark/log4j2-defaults.properties\n",
      "Setting default log level to \"WARN\".\n",
      "To adjust logging level use sc.setLogLevel(newLevel). For SparkR, use setLogLevel(newLevel).\n",
      "25/06/07 18:59:00 WARN NativeCodeLoader: Unable to load native-hadoop library for your platform... using builtin-java classes where applicable\n"
     ]
    }
   ],
   "source": [
    "spark = SparkSession.builder \\\n",
    "    .appName(\"Process Gold\") \\\n",
    "    .getOrCreate()"
   ]
  },
  {
   "cell_type": "code",
   "execution_count": 3,
   "id": "38a270d0",
   "metadata": {},
   "outputs": [],
   "source": [
    "read_path = \"/mnt/c/Users/LENOVO WINDOWS 10/Desktop/Solano/repos_sol/brewery_chalenge/datalake/silver/silver_breweries\"\n",
    "write_path = \"/mnt/c/Users/LENOVO WINDOWS 10/Desktop/Solano/repos_sol/brewery_chalenge/datalake/gold/aggregated_breweries\""
   ]
  },
  {
   "cell_type": "code",
   "execution_count": 5,
   "id": "6425c28b",
   "metadata": {},
   "outputs": [
    {
     "name": "stderr",
     "output_type": "stream",
     "text": [
      "                                                                                \r"
     ]
    }
   ],
   "source": [
    "silver_df = spark.read.parquet(read_path)"
   ]
  },
  {
   "cell_type": "code",
   "execution_count": 8,
   "id": "29081172",
   "metadata": {},
   "outputs": [],
   "source": [
    "gold_df = silver_df.groupBy(\"brewery_type\", \"country\") \\\n",
    "    .count() \\\n",
    "    .withColumnRenamed(\"count\", \"brewery_count\")"
   ]
  },
  {
   "cell_type": "code",
   "execution_count": 10,
   "id": "7ee939ff",
   "metadata": {},
   "outputs": [
    {
     "name": "stdout",
     "output_type": "stream",
     "text": [
      "+------------+-------------+-------------+\n",
      "|brewery_type|      country|brewery_count|\n",
      "+------------+-------------+-------------+\n",
      "|       micro|United States|           30|\n",
      "|     brewpub|United States|            8|\n",
      "|       large|United States|            7|\n",
      "|    contract|United States|            1|\n",
      "|       micro|      Ireland|            1|\n",
      "|  proprietor|United States|            1|\n",
      "|      closed|United States|            2|\n",
      "+------------+-------------+-------------+\n",
      "\n"
     ]
    }
   ],
   "source": [
    "gold_df.show()"
   ]
  },
  {
   "cell_type": "code",
   "execution_count": 11,
   "id": "183a93ea",
   "metadata": {},
   "outputs": [
    {
     "name": "stderr",
     "output_type": "stream",
     "text": [
      "                                                                                \r"
     ]
    }
   ],
   "source": [
    "gold_df.write.mode(\"overwrite\").parquet(write_path)\n",
    "spark.stop()"
   ]
  }
 ],
 "metadata": {
  "kernelspec": {
   "display_name": "brewery_venv",
   "language": "python",
   "name": "python3"
  },
  "language_info": {
   "codemirror_mode": {
    "name": "ipython",
    "version": 3
   },
   "file_extension": ".py",
   "mimetype": "text/x-python",
   "name": "python",
   "nbconvert_exporter": "python",
   "pygments_lexer": "ipython3",
   "version": "3.10.12"
  }
 },
 "nbformat": 4,
 "nbformat_minor": 5
}
