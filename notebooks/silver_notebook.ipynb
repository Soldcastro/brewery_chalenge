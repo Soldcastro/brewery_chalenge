{
 "cells": [
  {
   "cell_type": "code",
   "execution_count": 1,
   "id": "bd289d42",
   "metadata": {},
   "outputs": [],
   "source": [
    "from pyspark.sql import SparkSession\n",
    "from pyspark.sql.functions import col, lit"
   ]
  },
  {
   "cell_type": "code",
   "execution_count": 2,
   "id": "40de4ceb",
   "metadata": {},
   "outputs": [
    {
     "name": "stderr",
     "output_type": "stream",
     "text": [
      "WARNING: Using incubator modules: jdk.incubator.vector\n",
      "Using Spark's default log4j profile: org/apache/spark/log4j2-defaults.properties\n",
      "25/06/07 19:01:24 WARN Utils: Your hostname, DESKTOP-DETHDJJ, resolves to a loopback address: 127.0.1.1; using 192.168.15.99 instead (on interface wifi0)\n",
      "25/06/07 19:01:24 WARN Utils: Set SPARK_LOCAL_IP if you need to bind to another address\n",
      "Using Spark's default log4j profile: org/apache/spark/log4j2-defaults.properties\n",
      "Setting default log level to \"WARN\".\n",
      "To adjust logging level use sc.setLogLevel(newLevel). For SparkR, use setLogLevel(newLevel).\n",
      "25/06/07 19:01:26 WARN NativeCodeLoader: Unable to load native-hadoop library for your platform... using builtin-java classes where applicable\n"
     ]
    }
   ],
   "source": [
    "spark = SparkSession.builder \\\n",
    "    .appName(\"Process Silver\") \\\n",
    "    .getOrCreate()"
   ]
  },
  {
   "cell_type": "code",
   "execution_count": 3,
   "id": "1e5e37b5",
   "metadata": {},
   "outputs": [],
   "source": [
    "read_path = \"/mnt/c/Users/LENOVO WINDOWS 10/Desktop/Solano/repos_sol/brewery_chalenge/datalake/bronze/raw_breweries.json\"\n",
    "write_path = \"/mnt/c/Users/LENOVO WINDOWS 10/Desktop/Solano/repos_sol/brewery_chalenge/datalake/silver/silver_breweries\""
   ]
  },
  {
   "cell_type": "code",
   "execution_count": 5,
   "id": "f2f68bd0",
   "metadata": {},
   "outputs": [
    {
     "data": {
      "text/plain": [
       "'/mnt/c/Users/LENOVO WINDOWS 10/Desktop/Solano/repos_sol'"
      ]
     },
     "execution_count": 5,
     "metadata": {},
     "output_type": "execute_result"
    }
   ],
   "source": [
    "%pwd"
   ]
  },
  {
   "cell_type": "code",
   "execution_count": 4,
   "id": "f14fa6e8",
   "metadata": {},
   "outputs": [
    {
     "name": "stderr",
     "output_type": "stream",
     "text": [
      "                                                                                \r"
     ]
    }
   ],
   "source": [
    "raw_df = spark.read.json(read_path, multiLine=True)"
   ]
  },
  {
   "cell_type": "code",
   "execution_count": 5,
   "id": "51d31937",
   "metadata": {},
   "outputs": [
    {
     "name": "stderr",
     "output_type": "stream",
     "text": [
      "                                                                                \r"
     ]
    },
    {
     "name": "stdout",
     "output_type": "stream",
     "text": [
      "+--------------------+---------+---------+------------+--------------+-------------+--------------------+---------------+----------------+--------------------+------------+-----------+-------------+--------------+--------------------+--------------------+\n",
      "|           address_1|address_2|address_3|brewery_type|          city|      country|                  id|       latitude|       longitude|                name|       phone|postal_code|        state|state_province|              street|         website_url|\n",
      "+--------------------+---------+---------+------------+--------------+-------------+--------------------+---------------+----------------+--------------------+------------+-----------+-------------+--------------+--------------------+--------------------+\n",
      "|      1716 Topeka St|     NULL|     NULL|       micro|        Norman|United States|5128df48-79fc-4f0...|    35.25738891|    -97.46818222|    (405) Brewing Co|  4058160490| 73069-8224|     Oklahoma|      Oklahoma|      1716 Topeka St|http://www.405bre...|\n",
      "|407 Radam Ln Ste ...|     NULL|     NULL|       micro|        Austin|United States|9c5a66c8-cc13-416...|           NULL|            NULL|    (512) Brewing Co|  5129211545| 78745-1197|        Texas|         Texas|407 Radam Ln Ste ...|http://www.512bre...|\n",
      "| 8100 Washington Ave|     NULL|     NULL|       micro|Mount Pleasant|United States|34e8c68b-6146-453...|42.720108268996|-87.883363502094|1 of Us Brewing C...|  2624847553| 53406-3920|    Wisconsin|     Wisconsin| 8100 Washington Ave|https://www.1ofus...|\n",
      "|       62970 18th St|     NULL|     NULL|       large|          Bend|United States|6d14b220-8926-452...|    44.08683531|     -121.281706|10 Barrel Brewing Co|  5415851007| 97701-9847|       Oregon|        Oregon|       62970 18th St|http://www.10barr...|\n",
      "|1135 NW Galveston...|     NULL|     NULL|       large|          Bend|United States|e2e78bd8-80ff-4a6...|     44.0575649|    -121.3288021|10 Barrel Brewing Co|  5415851007| 97703-2465|       Oregon|        Oregon|1135 NW Galveston...|                NULL|\n",
      "| 1411 NW Flanders St|     NULL|     NULL|       large|      Portland|United States|e432899b-7f58-455...|     45.5259786|    -122.6855056|10 Barrel Brewing Co|  5032241700| 97209-2620|       Oregon|        Oregon| 1411 NW Flanders St|http://www.10barr...|\n",
      "|           1501 E St|     NULL|     NULL|       large|     San Diego|United States|ef970757-fe42-416...|      32.714813|     -117.129593|10 Barrel Brewing Co|  6195782311| 92101-6618|   California|    California|           1501 E St| http://10barrel.com|\n",
      "|    62950 NE 18th St|     NULL|     NULL|       large|          Bend|United States|9f1852da-c312-42d...|     44.0912109|    -121.2809536|10 Barrel Brewing...|  5415851007|      97701|       Oregon|        Oregon|    62950 NE 18th St|                NULL|\n",
      "|    826 W Bannock St|     NULL|     NULL|       large|         Boise|United States|ea4f30c0-bce6-416...|      43.618516|     -116.202929|10 Barrel Brewing...|  2083445870| 83702-5857|        Idaho|         Idaho|    826 W Bannock St|http://www.10barr...|\n",
      "|      2620 Walnut St|     NULL|     NULL|       large|        Denver|United States|1988eb86-f0a2-467...|     39.7592508|    -104.9853655|10 Barrel Brewing...|  7205738992| 80205-2231|     Colorado|      Colorado|      2620 Walnut St|                NULL|\n",
      "|         490 Mill St|     NULL|     NULL|       micro|          Reno|United States|1ecc330f-6275-42a...|     39.5171702|    -119.7732015|10 Torr Distillin...|  7755307014|      89502|       Nevada|        Nevada|         490 Mill St|http://www.10torr...|\n",
      "|       400 Brown Cir|     NULL|     NULL|       micro|          Knox|United States|7531dbd8-afc9-4b5...|      41.289715|      -86.627954|10-56 Brewing Com...|  6308165790|      46534|      Indiana|       Indiana|       400 Brown Cir|                NULL|\n",
      "| 1304 Scott St Ste D|     NULL|     NULL|      closed|      Petaluma|United States|5ae467af-66dc-4d7...|    38.27029381|     -122.665055|101 North Brewing...|  7077534934| 94954-7100|   California|    California| 1304 Scott St Ste D|http://www.101nor...|\n",
      "|        1043 Park St|     NULL|     NULL|       micro|   Castle Rock|United States|4ffda196-dd59-44a...|    39.38269495|    -104.8667206| 105 West Brewing Co|  3033257321| 80109-1585|     Colorado|      Colorado|        1043 Park St|http://www.105wes...|\n",
      "|        2005 2nd Ave|     NULL|     NULL|       micro|         Anoka|United States|42aa37d5-8384-4ff...|    45.19812039|    -93.38952559|         10K Brewing|  7633924753| 55303-2243|    Minnesota|     Minnesota|        2005 2nd Ave|  http://10KBrew.com|\n",
      "|   491 Washington St|     NULL|     NULL|       micro|      Abington|United States|232e8f62-9afc-45f...|    42.10591754|    -70.94594149|10th District Bre...|  7813071554| 02351-2419|Massachusetts| Massachusetts|   491 Washington St|http://www.10thdi...|\n",
      "|   6820 Bourgeois Rd|     NULL|     NULL|       micro|       Houston|United States|08f78223-24f8-4b7...|     29.9515464|     -95.5186591|11 Below Brewing ...|  2814442337| 77066-3107|        Texas|         Texas|   6820 Bourgeois Rd|http://www.11belo...|\n",
      "|       141 E Main St|     NULL|     NULL|     brewpub|      John Day|United States|58293321-14ae-49d...|     44.4146563|    -118.9218754|     1188 Brewing Co|  5415751188| 97845-1210|       Oregon|        Oregon|       141 E Main St|http://www.1188br...|\n",
      "|      Unnamed Street| Clonmore|     NULL|       micro|     Killeshin|      Ireland|e5f3e72a-fee2-481...|    52.84930763|    -6.979343891|12 Acres Brewing ...|353599107299|   R93 X3X8|        Laois|         Laois|      Unnamed Street|https://12acresbr...|\n",
      "|80 Earhart Dr Ste 20|     NULL|     NULL|     brewpub| Williamsville|United States|d81ff708-b5d2-478...|           NULL|            NULL|12 Gates Brewing ...|  7169066600| 14221-7804|     New York|      New York|80 Earhart Dr Ste 20|http://www.12gate...|\n",
      "+--------------------+---------+---------+------------+--------------+-------------+--------------------+---------------+----------------+--------------------+------------+-----------+-------------+--------------+--------------------+--------------------+\n",
      "only showing top 20 rows\n"
     ]
    }
   ],
   "source": [
    "raw_df.show()"
   ]
  },
  {
   "cell_type": "code",
   "execution_count": 6,
   "id": "a881407c",
   "metadata": {},
   "outputs": [
    {
     "name": "stdout",
     "output_type": "stream",
     "text": [
      "root\n",
      " |-- address_1: string (nullable = true)\n",
      " |-- address_2: string (nullable = true)\n",
      " |-- address_3: string (nullable = true)\n",
      " |-- brewery_type: string (nullable = true)\n",
      " |-- city: string (nullable = true)\n",
      " |-- country: string (nullable = true)\n",
      " |-- id: string (nullable = true)\n",
      " |-- latitude: double (nullable = true)\n",
      " |-- longitude: double (nullable = true)\n",
      " |-- name: string (nullable = true)\n",
      " |-- phone: string (nullable = true)\n",
      " |-- postal_code: string (nullable = true)\n",
      " |-- state: string (nullable = true)\n",
      " |-- state_province: string (nullable = true)\n",
      " |-- street: string (nullable = true)\n",
      " |-- website_url: string (nullable = true)\n",
      "\n"
     ]
    }
   ],
   "source": [
    "raw_df.printSchema()"
   ]
  },
  {
   "cell_type": "code",
   "execution_count": 7,
   "id": "f309bf6a",
   "metadata": {},
   "outputs": [],
   "source": [
    "silver_df = raw_df.select(\n",
    "    col(\"id\").alias(\"brewery_id\"),\n",
    "    col(\"name\").alias(\"brewery_name\"),\n",
    "    \"brewery_type\",\n",
    "    \"city\",\n",
    "    \"state\",\n",
    "    \"country\"\n",
    ")"
   ]
  },
  {
   "cell_type": "code",
   "execution_count": 8,
   "id": "8da4bb0d",
   "metadata": {},
   "outputs": [
    {
     "name": "stdout",
     "output_type": "stream",
     "text": [
      "+--------------------+--------------------+------------+--------------+-------------+-------------+\n",
      "|          brewery_id|        brewery_name|brewery_type|          city|        state|      country|\n",
      "+--------------------+--------------------+------------+--------------+-------------+-------------+\n",
      "|5128df48-79fc-4f0...|    (405) Brewing Co|       micro|        Norman|     Oklahoma|United States|\n",
      "|9c5a66c8-cc13-416...|    (512) Brewing Co|       micro|        Austin|        Texas|United States|\n",
      "|34e8c68b-6146-453...|1 of Us Brewing C...|       micro|Mount Pleasant|    Wisconsin|United States|\n",
      "|6d14b220-8926-452...|10 Barrel Brewing Co|       large|          Bend|       Oregon|United States|\n",
      "|e2e78bd8-80ff-4a6...|10 Barrel Brewing Co|       large|          Bend|       Oregon|United States|\n",
      "|e432899b-7f58-455...|10 Barrel Brewing Co|       large|      Portland|       Oregon|United States|\n",
      "|ef970757-fe42-416...|10 Barrel Brewing Co|       large|     San Diego|   California|United States|\n",
      "|9f1852da-c312-42d...|10 Barrel Brewing...|       large|          Bend|       Oregon|United States|\n",
      "|ea4f30c0-bce6-416...|10 Barrel Brewing...|       large|         Boise|        Idaho|United States|\n",
      "|1988eb86-f0a2-467...|10 Barrel Brewing...|       large|        Denver|     Colorado|United States|\n",
      "|1ecc330f-6275-42a...|10 Torr Distillin...|       micro|          Reno|       Nevada|United States|\n",
      "|7531dbd8-afc9-4b5...|10-56 Brewing Com...|       micro|          Knox|      Indiana|United States|\n",
      "|5ae467af-66dc-4d7...|101 North Brewing...|      closed|      Petaluma|   California|United States|\n",
      "|4ffda196-dd59-44a...| 105 West Brewing Co|       micro|   Castle Rock|     Colorado|United States|\n",
      "|42aa37d5-8384-4ff...|         10K Brewing|       micro|         Anoka|    Minnesota|United States|\n",
      "|232e8f62-9afc-45f...|10th District Bre...|       micro|      Abington|Massachusetts|United States|\n",
      "|08f78223-24f8-4b7...|11 Below Brewing ...|       micro|       Houston|        Texas|United States|\n",
      "|58293321-14ae-49d...|     1188 Brewing Co|     brewpub|      John Day|       Oregon|United States|\n",
      "|e5f3e72a-fee2-481...|12 Acres Brewing ...|       micro|     Killeshin|        Laois|      Ireland|\n",
      "|d81ff708-b5d2-478...|12 Gates Brewing ...|     brewpub| Williamsville|     New York|United States|\n",
      "+--------------------+--------------------+------------+--------------+-------------+-------------+\n",
      "only showing top 20 rows\n"
     ]
    }
   ],
   "source": [
    "silver_df.show()"
   ]
  },
  {
   "cell_type": "code",
   "execution_count": 9,
   "id": "b6a9754b",
   "metadata": {},
   "outputs": [
    {
     "name": "stderr",
     "output_type": "stream",
     "text": [
      "                                                                                \r"
     ]
    }
   ],
   "source": [
    "silver_df.write.mode(\"overwrite\").partitionBy('country','brewery_type').parquet(write_path)"
   ]
  }
 ],
 "metadata": {
  "kernelspec": {
   "display_name": "brewery_venv",
   "language": "python",
   "name": "python3"
  },
  "language_info": {
   "codemirror_mode": {
    "name": "ipython",
    "version": 3
   },
   "file_extension": ".py",
   "mimetype": "text/x-python",
   "name": "python",
   "nbconvert_exporter": "python",
   "pygments_lexer": "ipython3",
   "version": "3.10.12"
  }
 },
 "nbformat": 4,
 "nbformat_minor": 5
}
