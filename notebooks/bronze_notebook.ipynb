{
 "cells": [
  {
   "cell_type": "code",
   "execution_count": 1,
   "id": "26af9768",
   "metadata": {},
   "outputs": [],
   "source": [
    "import requests\n",
    "import json\n"
   ]
  },
  {
   "cell_type": "code",
   "execution_count": 2,
   "id": "861fd822",
   "metadata": {},
   "outputs": [],
   "source": [
    "url = 'https://api.openbrewerydb.org/v1/breweries'\n",
    "write_path = \"/mnt/c/Users/LENOVO WINDOWS 10/Desktop/Solano/repos_sol/brewery_chalenge/datalake/bronze/raw_breweries.json\""
   ]
  },
  {
   "cell_type": "code",
   "execution_count": 3,
   "id": "de724226",
   "metadata": {},
   "outputs": [],
   "source": [
    "response = requests.get(url, timeout=30)\n",
    "if response.status_code == 200:\n",
    "    breweries = response.json()\n",
    "    with open(write_path, 'w', encoding='utf8') as f:\n",
    "        json.dump(breweries, f, indent=4)"
   ]
  },
  {
   "cell_type": "code",
   "execution_count": null,
   "id": "37876584",
   "metadata": {},
   "outputs": [],
   "source": []
  }
 ],
 "metadata": {
  "kernelspec": {
   "display_name": "brewery_venv",
   "language": "python",
   "name": "python3"
  },
  "language_info": {
   "codemirror_mode": {
    "name": "ipython",
    "version": 3
   },
   "file_extension": ".py",
   "mimetype": "text/x-python",
   "name": "python",
   "nbconvert_exporter": "python",
   "pygments_lexer": "ipython3",
   "version": "3.10.12"
  }
 },
 "nbformat": 4,
 "nbformat_minor": 5
}
